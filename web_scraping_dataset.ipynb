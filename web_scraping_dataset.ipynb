{
 "cells": [
  {
   "cell_type": "code",
   "execution_count": 1,
   "metadata": {},
   "outputs": [],
   "source": [
    "import pandas as pd\n",
    "import numpy as np\n",
    "import requests\n",
    "from bs4 import BeautifulSoup\n",
    "from time import sleep\n",
    "from random import randint"
   ]
  },
  {
   "cell_type": "code",
   "execution_count": 2,
   "metadata": {},
   "outputs": [],
   "source": [
    "#declaring the list of empty variables, So that we can append the data overall"
   ]
  },
  {
   "cell_type": "code",
   "execution_count": 3,
   "metadata": {},
   "outputs": [],
   "source": [
    "movie_name = []\n",
    "year = []\n",
    "rating=[]\n",
    "votes = []\n",
    "genres = []\n"
   ]
  },
  {
   "cell_type": "code",
   "execution_count": 4,
   "metadata": {},
   "outputs": [],
   "source": [
    "#creating an array of values and passing it in the url for dynamic webpages\n",
    "pages = np.arange(1,10000,50)"
   ]
  },
  {
   "cell_type": "code",
   "execution_count": 5,
   "metadata": {},
   "outputs": [],
   "source": [
    "for page in pages:\n",
    "    page = requests.get(\"https://www.imdb.com/search/title/?title_type=feature&num_votes=10000,&sort=runtime,asc&start=\"+str(page)+\"&ref_=adv_nxt\")\n",
    "    soup = BeautifulSoup(page.text, 'html.parser')\n",
    "    movie_data = soup.findAll('div', attrs={'class' : 'lister-item mode-advanced'})\n",
    "    sleep(randint(2,8))\n",
    "    \n",
    "    for movie in movie_data:\n",
    "        name = movie.h3.a.text\n",
    "        movie_name.append(name)\n",
    "\n",
    "        release_year = movie.h3.find('span', class_=\"lister-item-year text-muted unbold\").text.replace('(','').replace(')','')\n",
    "        year.append(release_year)\n",
    "\n",
    "        rateings = movie.find('div', class_='inline-block ratings-imdb-rating').text.replace('\\n','')\n",
    "        rating.append(rateings)\n",
    "\n",
    "        value = movie.findAll('span', attrs = {'name': 'nv'})\n",
    "\n",
    "        vote = value[0].text\n",
    "        votes.append(vote)\n",
    "\n",
    "\n",
    "        genre = movie.p.find('span', class_='genre').text.replace('\\n','').replace(' ', '')\n",
    "        genres.append(genre)\n",
    "    "
   ]
  },
  {
   "cell_type": "code",
   "execution_count": 6,
   "metadata": {},
   "outputs": [],
   "source": [
    "movie_df = pd.DataFrame({'Name of movie': movie_name, 'Year of release': year, 'Rating': rating,'Votes': votes, 'Genre': genres})"
   ]
  },
  {
   "cell_type": "code",
   "execution_count": 7,
   "metadata": {},
   "outputs": [
    {
     "data": {
      "text/html": [
       "<div>\n",
       "<style scoped>\n",
       "    .dataframe tbody tr th:only-of-type {\n",
       "        vertical-align: middle;\n",
       "    }\n",
       "\n",
       "    .dataframe tbody tr th {\n",
       "        vertical-align: top;\n",
       "    }\n",
       "\n",
       "    .dataframe thead th {\n",
       "        text-align: right;\n",
       "    }\n",
       "</style>\n",
       "<table border=\"1\" class=\"dataframe\">\n",
       "  <thead>\n",
       "    <tr style=\"text-align: right;\">\n",
       "      <th></th>\n",
       "      <th>Name of movie</th>\n",
       "      <th>Year of release</th>\n",
       "      <th>Rating</th>\n",
       "      <th>Votes</th>\n",
       "      <th>Genre</th>\n",
       "    </tr>\n",
       "  </thead>\n",
       "  <tbody>\n",
       "    <tr>\n",
       "      <th>0</th>\n",
       "      <td>Sherlock Jr.</td>\n",
       "      <td>1924</td>\n",
       "      <td>8.2</td>\n",
       "      <td>43,771</td>\n",
       "      <td>Action,Comedy,Romance</td>\n",
       "    </tr>\n",
       "    <tr>\n",
       "      <th>1</th>\n",
       "      <td>Hotarubi no mori e</td>\n",
       "      <td>2011</td>\n",
       "      <td>7.9</td>\n",
       "      <td>14,820</td>\n",
       "      <td>Animation,Drama,Fantasy</td>\n",
       "    </tr>\n",
       "    <tr>\n",
       "      <th>2</th>\n",
       "      <td>Koto no ha no niwa</td>\n",
       "      <td>2013</td>\n",
       "      <td>7.5</td>\n",
       "      <td>37,053</td>\n",
       "      <td>Animation,Drama,Romance</td>\n",
       "    </tr>\n",
       "    <tr>\n",
       "      <th>3</th>\n",
       "      <td>Blood: The Last Vampire</td>\n",
       "      <td>2000</td>\n",
       "      <td>6.7</td>\n",
       "      <td>12,085</td>\n",
       "      <td>Animation,Action,Horror</td>\n",
       "    </tr>\n",
       "    <tr>\n",
       "      <th>4</th>\n",
       "      <td>Host</td>\n",
       "      <td>II 2020</td>\n",
       "      <td>6.5</td>\n",
       "      <td>20,620</td>\n",
       "      <td>Horror,Mystery</td>\n",
       "    </tr>\n",
       "    <tr>\n",
       "      <th>5</th>\n",
       "      <td>L'âge d'or</td>\n",
       "      <td>1930</td>\n",
       "      <td>7.3</td>\n",
       "      <td>13,064</td>\n",
       "      <td>Comedy,Drama</td>\n",
       "    </tr>\n",
       "    <tr>\n",
       "      <th>6</th>\n",
       "      <td>Karakomik Filmler: 2 Arada</td>\n",
       "      <td>2019</td>\n",
       "      <td>6.4</td>\n",
       "      <td>10,874</td>\n",
       "      <td>Comedy,Drama</td>\n",
       "    </tr>\n",
       "    <tr>\n",
       "      <th>7</th>\n",
       "      <td>Fear and Desire</td>\n",
       "      <td>1953</td>\n",
       "      <td>5.5</td>\n",
       "      <td>10,586</td>\n",
       "      <td>Drama,Thriller,War</td>\n",
       "    </tr>\n",
       "    <tr>\n",
       "      <th>8</th>\n",
       "      <td>It's Such a Beautiful Day</td>\n",
       "      <td>2012</td>\n",
       "      <td>8.3</td>\n",
       "      <td>11,763</td>\n",
       "      <td>Animation,Comedy,Drama</td>\n",
       "    </tr>\n",
       "    <tr>\n",
       "      <th>9</th>\n",
       "      <td>The Most Dangerous Game</td>\n",
       "      <td>1932</td>\n",
       "      <td>7.1</td>\n",
       "      <td>10,993</td>\n",
       "      <td>Action,Adventure,Horror</td>\n",
       "    </tr>\n",
       "  </tbody>\n",
       "</table>\n",
       "</div>"
      ],
      "text/plain": [
       "                Name of movie Year of release Rating   Votes  \\\n",
       "0                Sherlock Jr.            1924    8.2  43,771   \n",
       "1          Hotarubi no mori e            2011    7.9  14,820   \n",
       "2          Koto no ha no niwa            2013    7.5  37,053   \n",
       "3     Blood: The Last Vampire            2000    6.7  12,085   \n",
       "4                        Host         II 2020    6.5  20,620   \n",
       "5                  L'âge d'or            1930    7.3  13,064   \n",
       "6  Karakomik Filmler: 2 Arada            2019    6.4  10,874   \n",
       "7             Fear and Desire            1953    5.5  10,586   \n",
       "8   It's Such a Beautiful Day            2012    8.3  11,763   \n",
       "9     The Most Dangerous Game            1932    7.1  10,993   \n",
       "\n",
       "                     Genre  \n",
       "0    Action,Comedy,Romance  \n",
       "1  Animation,Drama,Fantasy  \n",
       "2  Animation,Drama,Romance  \n",
       "3  Animation,Action,Horror  \n",
       "4           Horror,Mystery  \n",
       "5             Comedy,Drama  \n",
       "6             Comedy,Drama  \n",
       "7       Drama,Thriller,War  \n",
       "8   Animation,Comedy,Drama  \n",
       "9  Action,Adventure,Horror  "
      ]
     },
     "execution_count": 7,
     "metadata": {},
     "output_type": "execute_result"
    }
   ],
   "source": [
    "movie_df.head(10)"
   ]
  },
  {
   "cell_type": "code",
   "execution_count": 8,
   "metadata": {},
   "outputs": [],
   "source": [
    "movie_df.to_csv(\"moviedataset.csv\")"
   ]
  }
 ],
 "metadata": {
  "kernelspec": {
   "display_name": "Python 3",
   "language": "python",
   "name": "python3"
  },
  "language_info": {
   "codemirror_mode": {
    "name": "ipython",
    "version": 3
   },
   "file_extension": ".py",
   "mimetype": "text/x-python",
   "name": "python",
   "nbconvert_exporter": "python",
   "pygments_lexer": "ipython3",
   "version": "3.7.3"
  }
 },
 "nbformat": 4,
 "nbformat_minor": 2
}
